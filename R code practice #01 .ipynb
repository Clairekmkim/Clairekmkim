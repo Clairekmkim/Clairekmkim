{
  "nbformat": 4,
  "nbformat_minor": 0,
  "metadata": {
    "colab": {
      "provenance": [],
      "authorship_tag": "ABX9TyP8MwwpbdpGA++oLshUDHXG",
      "include_colab_link": true
    },
    "kernelspec": {
      "name": "python3",
      "display_name": "Python 3"
    },
    "language_info": {
      "name": "python"
    }
  },
  "cells": [
    {
      "cell_type": "markdown",
      "metadata": {
        "id": "view-in-github",
        "colab_type": "text"
      },
      "source": [
        "<a href=\"https://colab.research.google.com/github/Clairekmkim/Clairekmkim/blob/main/R%20code%20practice%20%2301%20.ipynb\" target=\"_parent\"><img src=\"https://colab.research.google.com/assets/colab-badge.svg\" alt=\"Open In Colab\"/></a>"
      ]
    },
    {
      "cell_type": "code",
      "execution_count": 4,
      "metadata": {
        "colab": {
          "base_uri": "https://localhost:8080/"
        },
        "id": "HCJpHyZ0ZLDI",
        "outputId": "152ed61e-82e3-4dc1-b5cf-e0517faaef5a"
      },
      "outputs": [
        {
          "output_type": "stream",
          "name": "stdout",
          "text": [
            "21 is an odd number\n"
          ]
        }
      ],
      "source": [
        "def iftest2(x):\n",
        "    if not isinstance(x, (int, float)):\n",
        "        print(f\"{x} is not numeric\")\n",
        "    elif x % 2 == 0:\n",
        "        print(f\"{x} is an even number\")\n",
        "    elif x % 2 == 1:\n",
        "        print(f\"{x} is an odd number\")\n",
        "\n",
        "# 함수 테스트\n",
        "iftest2(21)\n"
      ]
    }
  ]
}